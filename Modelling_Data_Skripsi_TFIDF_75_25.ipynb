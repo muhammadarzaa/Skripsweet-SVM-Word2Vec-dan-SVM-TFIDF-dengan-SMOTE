{
  "cells": [
    {
      "cell_type": "code",
      "execution_count": null,
      "metadata": {
        "colab": {
          "base_uri": "https://localhost:8080/"
        },
        "id": "4--BCkagQQzJ",
        "outputId": "b283a8de-a785-4d72-bd46-4b9bf15209fd"
      },
      "outputs": [
        {
          "output_type": "stream",
          "name": "stdout",
          "text": [
            "Looking in indexes: https://pypi.org/simple, https://us-python.pkg.dev/colab-wheels/public/simple/\n",
            "Collecting Sastrawi\n",
            "  Downloading Sastrawi-1.0.1-py2.py3-none-any.whl (209 kB)\n",
            "\u001b[K     |████████████████████████████████| 209 kB 5.2 MB/s \n",
            "\u001b[?25hInstalling collected packages: Sastrawi\n",
            "Successfully installed Sastrawi-1.0.1\n"
          ]
        }
      ],
      "source": [
        "!pip install Sastrawi"
      ]
    },
    {
      "cell_type": "code",
      "execution_count": null,
      "metadata": {
        "id": "VRHRyb5WMGaq"
      },
      "outputs": [],
      "source": [
        "import re    # for regular expressions \n",
        "import nltk  # for text manipulation \n",
        "import string \n",
        "import warnings \n",
        "import numpy as np \n",
        "import pandas as pd \n",
        "import seaborn as sns \n",
        "import matplotlib.pyplot as plt\n",
        "from Sastrawi.Stemmer.StemmerFactory import StemmerFactory\n",
        "from Sastrawi.StopWordRemover.StopWordRemoverFactory import StopWordRemoverFactory\n",
        "from sklearn.metrics import accuracy_score, recall_score\n",
        "from wordcloud import WordCloud  \n",
        "from sklearn import svm"
      ]
    },
    {
      "cell_type": "code",
      "execution_count": null,
      "metadata": {
        "colab": {
          "base_uri": "https://localhost:8080/"
        },
        "id": "0fsG8N4AQexo",
        "outputId": "5ff8fbd2-881c-4f94-9f9e-125a78b82f67"
      },
      "outputs": [
        {
          "output_type": "stream",
          "name": "stderr",
          "text": [
            "[nltk_data] Downloading package punkt to /root/nltk_data...\n",
            "[nltk_data]   Unzipping tokenizers/punkt.zip.\n"
          ]
        },
        {
          "output_type": "execute_result",
          "data": {
            "text/plain": [
              "True"
            ]
          },
          "metadata": {},
          "execution_count": 3
        }
      ],
      "source": [
        "nltk.download('punkt')"
      ]
    },
    {
      "cell_type": "code",
      "execution_count": null,
      "metadata": {
        "id": "TGnwek-2Mg48"
      },
      "outputs": [],
      "source": [
        "data = pd.read_csv(\"/content/drive/My Drive/Colab Notebooks/Prediction Analysis/datasets/SesudahProcessingtfidf.csv\")"
      ]
    },
    {
      "cell_type": "code",
      "execution_count": null,
      "metadata": {
        "colab": {
          "base_uri": "https://localhost:8080/",
          "height": 206
        },
        "id": "mQd-MiqwMtlc",
        "outputId": "09e4f6a2-d3a3-43e6-b590-a4b044d26b40"
      },
      "outputs": [
        {
          "output_type": "execute_result",
          "data": {
            "text/plain": [
              "   Unnamed: 0                                            Comment  Label  \\\n",
              "0           0  Kebijakan yang membuat masyarakat semakin terp...      0   \n",
              "1           1  tidak jadi buat SIM. tidak jadi perpanjang STN...      0   \n",
              "2           2  Jangan kau tanyakan apa yang telah negara beri...      0   \n",
              "3           3                      Gimana kok jadi ruwet gini...      0   \n",
              "4           4  Bertambah lagi beban pengeluaran jadi punya hu...      0   \n",
              "\n",
              "                                      Comment_Bersih  \\\n",
              "0  kebijakan yang membuat masyarakat semakin terp...   \n",
              "1  tidak jadi buat sim tidak jadi perpanjang stnk...   \n",
              "2  jangan kau tanyakan apa yang telah negara beri...   \n",
              "3                         gimana kok jadi ruwet gini   \n",
              "4  bertambah lagi beban pengeluaran jadi punya hu...   \n",
              "\n",
              "                                  Comment_Tokenizing  \n",
              "0  ['bijak', 'masyarakat', 'puruk', 'anda', 'nya'...  \n",
              "1  ['sim', 'panjang', 'stnk', 'jual', 'tanahgimana']  \n",
              "2  ['kau', 'negara', 'pada', 'tanya', 'kau', 'neg...  \n",
              "3                         ['gimana', 'ruwet', 'gin']  \n",
              "4  ['tambah', 'beban', 'keluar', 'hutang', 'bulan...  "
            ],
            "text/html": [
              "\n",
              "  <div id=\"df-17da477a-4882-4cad-a6bc-4e552c29d019\">\n",
              "    <div class=\"colab-df-container\">\n",
              "      <div>\n",
              "<style scoped>\n",
              "    .dataframe tbody tr th:only-of-type {\n",
              "        vertical-align: middle;\n",
              "    }\n",
              "\n",
              "    .dataframe tbody tr th {\n",
              "        vertical-align: top;\n",
              "    }\n",
              "\n",
              "    .dataframe thead th {\n",
              "        text-align: right;\n",
              "    }\n",
              "</style>\n",
              "<table border=\"1\" class=\"dataframe\">\n",
              "  <thead>\n",
              "    <tr style=\"text-align: right;\">\n",
              "      <th></th>\n",
              "      <th>Unnamed: 0</th>\n",
              "      <th>Comment</th>\n",
              "      <th>Label</th>\n",
              "      <th>Comment_Bersih</th>\n",
              "      <th>Comment_Tokenizing</th>\n",
              "    </tr>\n",
              "  </thead>\n",
              "  <tbody>\n",
              "    <tr>\n",
              "      <th>0</th>\n",
              "      <td>0</td>\n",
              "      <td>Kebijakan yang membuat masyarakat semakin terp...</td>\n",
              "      <td>0</td>\n",
              "      <td>kebijakan yang membuat masyarakat semakin terp...</td>\n",
              "      <td>['bijak', 'masyarakat', 'puruk', 'anda', 'nya'...</td>\n",
              "    </tr>\n",
              "    <tr>\n",
              "      <th>1</th>\n",
              "      <td>1</td>\n",
              "      <td>tidak jadi buat SIM. tidak jadi perpanjang STN...</td>\n",
              "      <td>0</td>\n",
              "      <td>tidak jadi buat sim tidak jadi perpanjang stnk...</td>\n",
              "      <td>['sim', 'panjang', 'stnk', 'jual', 'tanahgimana']</td>\n",
              "    </tr>\n",
              "    <tr>\n",
              "      <th>2</th>\n",
              "      <td>2</td>\n",
              "      <td>Jangan kau tanyakan apa yang telah negara beri...</td>\n",
              "      <td>0</td>\n",
              "      <td>jangan kau tanyakan apa yang telah negara beri...</td>\n",
              "      <td>['kau', 'negara', 'pada', 'tanya', 'kau', 'neg...</td>\n",
              "    </tr>\n",
              "    <tr>\n",
              "      <th>3</th>\n",
              "      <td>3</td>\n",
              "      <td>Gimana kok jadi ruwet gini...</td>\n",
              "      <td>0</td>\n",
              "      <td>gimana kok jadi ruwet gini</td>\n",
              "      <td>['gimana', 'ruwet', 'gin']</td>\n",
              "    </tr>\n",
              "    <tr>\n",
              "      <th>4</th>\n",
              "      <td>4</td>\n",
              "      <td>Bertambah lagi beban pengeluaran jadi punya hu...</td>\n",
              "      <td>0</td>\n",
              "      <td>bertambah lagi beban pengeluaran jadi punya hu...</td>\n",
              "      <td>['tambah', 'beban', 'keluar', 'hutang', 'bulan...</td>\n",
              "    </tr>\n",
              "  </tbody>\n",
              "</table>\n",
              "</div>\n",
              "      <button class=\"colab-df-convert\" onclick=\"convertToInteractive('df-17da477a-4882-4cad-a6bc-4e552c29d019')\"\n",
              "              title=\"Convert this dataframe to an interactive table.\"\n",
              "              style=\"display:none;\">\n",
              "        \n",
              "  <svg xmlns=\"http://www.w3.org/2000/svg\" height=\"24px\"viewBox=\"0 0 24 24\"\n",
              "       width=\"24px\">\n",
              "    <path d=\"M0 0h24v24H0V0z\" fill=\"none\"/>\n",
              "    <path d=\"M18.56 5.44l.94 2.06.94-2.06 2.06-.94-2.06-.94-.94-2.06-.94 2.06-2.06.94zm-11 1L8.5 8.5l.94-2.06 2.06-.94-2.06-.94L8.5 2.5l-.94 2.06-2.06.94zm10 10l.94 2.06.94-2.06 2.06-.94-2.06-.94-.94-2.06-.94 2.06-2.06.94z\"/><path d=\"M17.41 7.96l-1.37-1.37c-.4-.4-.92-.59-1.43-.59-.52 0-1.04.2-1.43.59L10.3 9.45l-7.72 7.72c-.78.78-.78 2.05 0 2.83L4 21.41c.39.39.9.59 1.41.59.51 0 1.02-.2 1.41-.59l7.78-7.78 2.81-2.81c.8-.78.8-2.07 0-2.86zM5.41 20L4 18.59l7.72-7.72 1.47 1.35L5.41 20z\"/>\n",
              "  </svg>\n",
              "      </button>\n",
              "      \n",
              "  <style>\n",
              "    .colab-df-container {\n",
              "      display:flex;\n",
              "      flex-wrap:wrap;\n",
              "      gap: 12px;\n",
              "    }\n",
              "\n",
              "    .colab-df-convert {\n",
              "      background-color: #E8F0FE;\n",
              "      border: none;\n",
              "      border-radius: 50%;\n",
              "      cursor: pointer;\n",
              "      display: none;\n",
              "      fill: #1967D2;\n",
              "      height: 32px;\n",
              "      padding: 0 0 0 0;\n",
              "      width: 32px;\n",
              "    }\n",
              "\n",
              "    .colab-df-convert:hover {\n",
              "      background-color: #E2EBFA;\n",
              "      box-shadow: 0px 1px 2px rgba(60, 64, 67, 0.3), 0px 1px 3px 1px rgba(60, 64, 67, 0.15);\n",
              "      fill: #174EA6;\n",
              "    }\n",
              "\n",
              "    [theme=dark] .colab-df-convert {\n",
              "      background-color: #3B4455;\n",
              "      fill: #D2E3FC;\n",
              "    }\n",
              "\n",
              "    [theme=dark] .colab-df-convert:hover {\n",
              "      background-color: #434B5C;\n",
              "      box-shadow: 0px 1px 3px 1px rgba(0, 0, 0, 0.15);\n",
              "      filter: drop-shadow(0px 1px 2px rgba(0, 0, 0, 0.3));\n",
              "      fill: #FFFFFF;\n",
              "    }\n",
              "  </style>\n",
              "\n",
              "      <script>\n",
              "        const buttonEl =\n",
              "          document.querySelector('#df-17da477a-4882-4cad-a6bc-4e552c29d019 button.colab-df-convert');\n",
              "        buttonEl.style.display =\n",
              "          google.colab.kernel.accessAllowed ? 'block' : 'none';\n",
              "\n",
              "        async function convertToInteractive(key) {\n",
              "          const element = document.querySelector('#df-17da477a-4882-4cad-a6bc-4e552c29d019');\n",
              "          const dataTable =\n",
              "            await google.colab.kernel.invokeFunction('convertToInteractive',\n",
              "                                                     [key], {});\n",
              "          if (!dataTable) return;\n",
              "\n",
              "          const docLinkHtml = 'Like what you see? Visit the ' +\n",
              "            '<a target=\"_blank\" href=https://colab.research.google.com/notebooks/data_table.ipynb>data table notebook</a>'\n",
              "            + ' to learn more about interactive tables.';\n",
              "          element.innerHTML = '';\n",
              "          dataTable['output_type'] = 'display_data';\n",
              "          await google.colab.output.renderOutput(dataTable, element);\n",
              "          const docLink = document.createElement('div');\n",
              "          docLink.innerHTML = docLinkHtml;\n",
              "          element.appendChild(docLink);\n",
              "        }\n",
              "      </script>\n",
              "    </div>\n",
              "  </div>\n",
              "  "
            ]
          },
          "metadata": {},
          "execution_count": 5
        }
      ],
      "source": [
        "data.head()"
      ]
    },
    {
      "cell_type": "code",
      "execution_count": null,
      "metadata": {
        "colab": {
          "base_uri": "https://localhost:8080/"
        },
        "id": "JPWlMmiHM-3B",
        "outputId": "15d2ba4e-60d8-42c0-a79b-050ed217f215"
      },
      "outputs": [
        {
          "output_type": "execute_result",
          "data": {
            "text/plain": [
              "0    2912\n",
              "1     148\n",
              "Name: Label, dtype: int64"
            ]
          },
          "metadata": {},
          "execution_count": 60
        }
      ],
      "source": [
        "data.Label.value_counts()"
      ]
    },
    {
      "cell_type": "code",
      "source": [
        "def plot_confusion_matrix(cm, classes,\n",
        "                          normalize = False,\n",
        "                          title = 'Confusion matrix',\n",
        "                          cmap = plt.cm.Purples):\n",
        "    \"\"\"\n",
        "    This function prints and plots the confusion matrix.\n",
        "    \"\"\"\n",
        "    \n",
        "    plt.imshow(cm, interpolation='nearest', cmap=cmap)\n",
        "    plt.title(title)\n",
        "    plt.colorbar()\n",
        "    tick_marks = np.arange(len(classes))\n",
        "    plt.xticks(tick_marks, classes, rotation=45)\n",
        "    plt.yticks(tick_marks, classes)\n",
        "\n",
        "    if normalize:\n",
        "        cm = cm.astype('float') / cm.sum(axis=1)[:, np.newaxis]\n",
        "        print(\"Normalized confusion matrix\")\n",
        "    else:\n",
        "        print('Confusion matrix, without normalization')\n",
        "\n",
        "    thresh = cm.max() / 2.\n",
        "    for i in range (cm.shape[0]):\n",
        "        for j in range (cm.shape[1]):\n",
        "            plt.text(j, i, cm[i, j],\n",
        "                 horizontalalignment=\"center\",\n",
        "                 color=\"red\" if cm[i, j] > thresh else \"black\")\n",
        "\n",
        "    plt.tight_layout()\n",
        "    plt.ylabel('True label')\n",
        "    plt.xlabel('Predicted label')"
      ],
      "metadata": {
        "id": "kYbLnOsjRIYL"
      },
      "execution_count": null,
      "outputs": []
    },
    {
      "cell_type": "code",
      "source": [
        "from sklearn.model_selection import train_test_split"
      ],
      "metadata": {
        "id": "nS5pOcZ7RSb7"
      },
      "execution_count": null,
      "outputs": []
    },
    {
      "cell_type": "code",
      "source": [
        "Train_X, Test_X, Train_Y, Test_Y = train_test_split(data['Comment_Tokenizing'],data['Label'],test_size=0.25)"
      ],
      "metadata": {
        "id": "7B7h18s9NVhr"
      },
      "execution_count": null,
      "outputs": []
    },
    {
      "cell_type": "code",
      "source": [
        "print(\"Perbandingan Jumlah Data Uji dan Latih Pembagian Data 75:25\")\n",
        "print(\"Data Latih   : \",Train_X.size)\n",
        "print(\"Data Uji     : \",Test_X.size)"
      ],
      "metadata": {
        "colab": {
          "base_uri": "https://localhost:8080/"
        },
        "id": "14xBjSv3KuY5",
        "outputId": "fe22b3dd-04dd-41c8-f513-da4437e8986a"
      },
      "execution_count": null,
      "outputs": [
        {
          "output_type": "stream",
          "name": "stdout",
          "text": [
            "Perbandingan Jumlah Data Uji dan Latih Pembagian Data 75:25\n",
            "Data Latih   :  2295\n",
            "Data Uji     :  765\n"
          ]
        }
      ]
    },
    {
      "cell_type": "code",
      "source": [
        "from sklearn.feature_extraction.text import CountVectorizer\n",
        "from sklearn.feature_extraction.text import TfidfTransformer, TfidfVectorizer\n",
        "\n",
        "Tfidf_vect = TfidfVectorizer(max_features=5000)\n",
        "Tfidf_vect.fit(data['Comment_Tokenizing'])\n",
        "Train_X_Tfidf = Tfidf_vect.transform(Train_X)\n",
        "Test_X_Tfidf = Tfidf_vect.transform(Test_X)\n",
        "print(Test_X_Tfidf)\n",
        "print(Train_X_Tfidf)"
      ],
      "metadata": {
        "colab": {
          "base_uri": "https://localhost:8080/"
        },
        "id": "1czfIaAgN26B",
        "outputId": "ed11e644-165e-466e-e18d-df3f507411d6"
      },
      "execution_count": null,
      "outputs": [
        {
          "output_type": "stream",
          "name": "stdout",
          "text": [
            "  (0, 3628)\t0.6954927218252184\n",
            "  (0, 728)\t0.5642847836709526\n",
            "  (0, 364)\t0.4448286825347209\n",
            "  (1, 4389)\t0.3363529666079293\n",
            "  (1, 3497)\t0.16345653325439416\n",
            "  (1, 2437)\t0.5480420761645788\n",
            "  (1, 2314)\t0.3846223903348039\n",
            "  (1, 1781)\t0.4302071588775435\n",
            "  (1, 1566)\t0.4359294550823022\n",
            "  (1, 530)\t0.1917066869960962\n",
            "  (2, 4666)\t0.2742977030605566\n",
            "  (2, 4418)\t0.25711644321388305\n",
            "  (2, 3620)\t0.28815553222411194\n",
            "  (2, 3514)\t0.40142278011160104\n",
            "  (2, 3505)\t0.3818912668961322\n",
            "  (2, 3306)\t0.36803343773257685\n",
            "  (2, 3209)\t0.183084567696702\n",
            "  (2, 2873)\t0.30436361475646256\n",
            "  (2, 2824)\t0.25363271075664506\n",
            "  (2, 2817)\t0.24934805354724962\n",
            "  (2, 615)\t0.2837733635671092\n",
            "  (3, 4183)\t0.48672928310128094\n",
            "  (3, 3806)\t0.5838567740985199\n",
            "  (3, 2590)\t0.47109524903231564\n",
            "  (3, 457)\t0.4475211041394177\n",
            "  :\t:\n",
            "  (760, 1898)\t0.27171896391170536\n",
            "  (760, 1790)\t0.18566930271932794\n",
            "  (760, 1607)\t0.19504952519035917\n",
            "  (760, 694)\t0.27171896391170536\n",
            "  (760, 508)\t0.27171896391170536\n",
            "  (760, 402)\t0.22267669834690992\n",
            "  (760, 192)\t0.24911806040941942\n",
            "  (761, 3270)\t0.5261004720439937\n",
            "  (761, 1901)\t0.8504224205152914\n",
            "  (762, 4702)\t0.3363927277477512\n",
            "  (762, 3497)\t0.20503847934112907\n",
            "  (762, 2966)\t0.34567159374764816\n",
            "  (762, 1471)\t0.654010474685548\n",
            "  (762, 530)\t0.2404752309290071\n",
            "  (762, 190)\t0.48964504112171986\n",
            "  (763, 4908)\t0.3915652209144738\n",
            "  (763, 4434)\t0.29657696529894917\n",
            "  (763, 3799)\t0.46084456499549936\n",
            "  (763, 2809)\t0.4225126672395491\n",
            "  (763, 1394)\t0.36656988365214316\n",
            "  (763, 1327)\t0.26583245952749496\n",
            "  (763, 918)\t0.3617580467148904\n",
            "  (763, 66)\t0.1786472889756252\n",
            "  (764, 1972)\t0.7682257916594257\n",
            "  (764, 964)\t0.6401789851512223\n",
            "  (0, 2857)\t0.5027586643094317\n",
            "  (0, 2635)\t0.4801171177917296\n",
            "  (0, 2552)\t0.6682604534829123\n",
            "  (0, 364)\t0.2648570274241766\n",
            "  (1, 4472)\t0.2554342868980072\n",
            "  (1, 4446)\t0.2786082216174299\n",
            "  (1, 4386)\t0.2786082216174299\n",
            "  (1, 4119)\t0.2786082216174299\n",
            "  (1, 3883)\t0.2554342868980072\n",
            "  (1, 3488)\t0.23672469663883966\n",
            "  (1, 3077)\t0.23672469663883966\n",
            "  (1, 2749)\t0.2554342868980072\n",
            "  (1, 2744)\t0.2554342868980072\n",
            "  (1, 2649)\t0.24187840409298486\n",
            "  (1, 2105)\t0.2786082216174299\n",
            "  (1, 1727)\t0.2786082216174299\n",
            "  (1, 1214)\t0.24797394624273936\n",
            "  (1, 164)\t0.34471319986943333\n",
            "  (2, 4852)\t0.3608344335543826\n",
            "  (2, 3497)\t0.27419695079691137\n",
            "  (2, 1992)\t0.5974471967659978\n",
            "  (2, 1560)\t0.37089129935650145\n",
            "  (2, 334)\t0.4373024968880711\n",
            "  (2, 240)\t0.32996599989804964\n",
            "  (3, 4265)\t0.5964360152702413\n",
            "  :\t:\n",
            "  (2292, 2314)\t0.5783312799712822\n",
            "  (2292, 2280)\t0.35008674489157426\n",
            "  (2292, 1485)\t0.4120273329777851\n",
            "  (2292, 1231)\t0.2030392206942598\n",
            "  (2292, 830)\t0.1069304517700005\n",
            "  (2292, 530)\t0.14412834049130216\n",
            "  (2293, 4413)\t0.31573475661057687\n",
            "  (2293, 4080)\t0.33946335580709036\n",
            "  (2293, 3754)\t0.20881752291083777\n",
            "  (2293, 2983)\t0.3832278845784596\n",
            "  (2293, 2966)\t0.2115471601803424\n",
            "  (2293, 2770)\t0.1715956157734738\n",
            "  (2293, 2542)\t0.2776798398582826\n",
            "  (2293, 1179)\t0.34478258589728056\n",
            "  (2293, 1170)\t0.27479414066720786\n",
            "  (2293, 1095)\t0.2179463457045316\n",
            "  (2293, 922)\t0.25071615605257586\n",
            "  (2293, 830)\t0.1091857278968022\n",
            "  (2293, 711)\t0.24268561724324622\n",
            "  (2293, 459)\t0.260270226023856\n",
            "  (2294, 3918)\t0.6429242871219325\n",
            "  (2294, 3209)\t0.3082278265385007\n",
            "  (2294, 909)\t0.39864019224818453\n",
            "  (2294, 830)\t0.5261611143280787\n",
            "  (2294, 530)\t0.236398914696053\n"
          ]
        }
      ]
    },
    {
      "cell_type": "markdown",
      "source": [
        "## **SVM Linear**"
      ],
      "metadata": {
        "id": "uLZ9LwZ4R2sY"
      }
    },
    {
      "cell_type": "code",
      "source": [
        "import time\n",
        "from sklearn.svm import SVC\n",
        "start = time.time() \n",
        "\n",
        "svm_classifiertf = SVC(kernel='linear', C=2.33, probability=True)\n",
        "svm_classifiertf.fit(Train_X_Tfidf,Train_Y)\n",
        "y_pred1 = svm_classifiertf.predict(Test_X_Tfidf)\n",
        "\n",
        "end = time.time()\n",
        "process = round(end-start,2)\n",
        "print(\"Support Vector Machine Classifier has fitted, this process took {} seconds\".format(process))"
      ],
      "metadata": {
        "colab": {
          "base_uri": "https://localhost:8080/"
        },
        "id": "L3XRNKmPPse_",
        "outputId": "f1f4a585-e0dd-4cf6-8489-cac151447caa"
      },
      "execution_count": null,
      "outputs": [
        {
          "output_type": "stream",
          "name": "stdout",
          "text": [
            "Support Vector Machine Classifier has fitted, this process took 0.99 seconds\n"
          ]
        }
      ]
    },
    {
      "cell_type": "code",
      "source": [
        "#K-fold\n",
        "from sklearn.model_selection import KFold\n",
        "from sklearn.model_selection import cross_val_score\n",
        "\n",
        "sv = SVC()\n",
        "kf = KFold(n_splits=10,shuffle=True, random_state=123)\n",
        "cv_scores = cross_val_score(svm_classifiertf,Train_X_Tfidf,Train_Y,cv=10)\n",
        "print(cv_scores)\n",
        "print('Mean: %.3f (%.3f)'%(cv_scores.mean(),cv_scores.std()))"
      ],
      "metadata": {
        "colab": {
          "base_uri": "https://localhost:8080/"
        },
        "id": "hnJqYYYZxBnm",
        "outputId": "d3db7ade-d8ce-4757-e4b2-0bdfa8f9c31c"
      },
      "execution_count": null,
      "outputs": [
        {
          "output_type": "stream",
          "name": "stdout",
          "text": [
            "[0.95217391 0.94782609 0.93478261 0.95652174 0.94782609 0.93886463\n",
            " 0.95196507 0.94323144 0.95196507 0.95633188]\n",
            "Mean: 0.948 (0.007)\n"
          ]
        }
      ]
    },
    {
      "cell_type": "code",
      "source": [
        "svnsm = round(accuracy_score(Test_Y, y_pred1),2)\n",
        "print('Akurasi Kernel Linear :',svnsm)"
      ],
      "metadata": {
        "colab": {
          "base_uri": "https://localhost:8080/"
        },
        "id": "WE4PmWRdQaRr",
        "outputId": "48abc76d-10f0-4b11-8a44-ea77e64f603b"
      },
      "execution_count": null,
      "outputs": [
        {
          "output_type": "stream",
          "name": "stdout",
          "text": [
            "Akurasi Kernel Linear : 0.95\n"
          ]
        }
      ]
    },
    {
      "cell_type": "code",
      "source": [
        "from sklearn import metrics\n",
        "from sklearn.metrics import classification_report\n",
        "\n",
        "cm = metrics.confusion_matrix(Test_Y, y_pred1)\n",
        "plot_confusion_matrix(cm, classes = ['Positif','Negatif'])"
      ],
      "metadata": {
        "colab": {
          "base_uri": "https://localhost:8080/",
          "height": 328
        },
        "id": "rzkWzJvSQ1au",
        "outputId": "ab275d50-0e8b-4f99-d83d-ebf0578fbf38"
      },
      "execution_count": null,
      "outputs": [
        {
          "output_type": "stream",
          "name": "stdout",
          "text": [
            "Confusion matrix, without normalization\n"
          ]
        },
        {
          "output_type": "display_data",
          "data": {
            "text/plain": [
              "<Figure size 432x288 with 2 Axes>"
            ],
            "image/png": "[encoded data removed]"
          },
          "metadata": {
            "needs_background": "light"
          }
        }
      ]
    },
    {
      "cell_type": "code",
      "source": [
        "print(\"Classification Report:\\n\",classification_report(Test_Y, y_pred1))"
      ],
      "metadata": {
        "colab": {
          "base_uri": "https://localhost:8080/"
        },
        "id": "_1hBr729Raem",
        "outputId": "8c8889ed-6ef6-40fc-b1f4-1e12c51625db"
      },
      "execution_count": null,
      "outputs": [
        {
          "output_type": "stream",
          "name": "stdout",
          "text": [
            "Classification Report:\n",
            "               precision    recall  f1-score   support\n",
            "\n",
            "           0       0.96      0.99      0.97       728\n",
            "           1       0.50      0.19      0.27        37\n",
            "\n",
            "    accuracy                           0.95       765\n",
            "   macro avg       0.73      0.59      0.62       765\n",
            "weighted avg       0.94      0.95      0.94       765\n",
            "\n"
          ]
        }
      ]
    },
    {
      "cell_type": "markdown",
      "source": [
        "## **SVM Kernel RBF**"
      ],
      "metadata": {
        "id": "OPtUO2wJSE2q"
      }
    },
    {
      "cell_type": "code",
      "source": [
        "import time\n",
        "from sklearn.svm import SVC\n",
        "start = time.time() \n",
        "\n",
        "svm_classifiertfrb = SVC(kernel='linear', C=2.33, probability=True)\n",
        "svm_classifiertfrb.fit(Train_X_Tfidf,Train_Y)\n",
        "y_pred2 = svm_classifiertfrb.predict(Test_X_Tfidf)\n",
        "\n",
        "end = time.time()\n",
        "process = round(end-start,2)\n",
        "print(\"Support Vector Machine Classifier has fitted, this process took {} seconds\".format(process))"
      ],
      "metadata": {
        "colab": {
          "base_uri": "https://localhost:8080/"
        },
        "id": "8j6Ut-fBSIjD",
        "outputId": "8d413970-f213-42e7-ba70-154362a8799d"
      },
      "execution_count": null,
      "outputs": [
        {
          "output_type": "stream",
          "name": "stdout",
          "text": [
            "Support Vector Machine Classifier has fitted, this process took 1.24 seconds\n"
          ]
        }
      ]
    },
    {
      "cell_type": "code",
      "source": [
        "#K-fold\n",
        "from sklearn.model_selection import KFold\n",
        "from sklearn.model_selection import cross_val_score\n",
        "\n",
        "sv = SVC()\n",
        "kf = KFold(n_splits=10,shuffle=True, random_state=123)\n",
        "cv_scores = cross_val_score(svm_classifiertfrb,Train_X_Tfidf,Train_Y,cv=10)\n",
        "print(cv_scores)\n",
        "print('Mean: %.3f (%.3f)'%(cv_scores.mean(),cv_scores.std()))"
      ],
      "metadata": {
        "colab": {
          "base_uri": "https://localhost:8080/"
        },
        "id": "WKucSM2i0ptQ",
        "outputId": "2bb897db-093e-4826-a84b-e2e5d484bf6b"
      },
      "execution_count": null,
      "outputs": [
        {
          "output_type": "stream",
          "name": "stdout",
          "text": [
            "[0.95217391 0.94782609 0.93478261 0.95652174 0.94782609 0.93886463\n",
            " 0.95196507 0.94323144 0.95196507 0.95633188]\n",
            "Mean: 0.948 (0.007)\n"
          ]
        }
      ]
    },
    {
      "cell_type": "code",
      "source": [
        "svnsmrb = round(accuracy_score(Test_Y, y_pred2),2)\n",
        "print('Akurasi Kernel RBF :',svnsmrb)"
      ],
      "metadata": {
        "colab": {
          "base_uri": "https://localhost:8080/"
        },
        "id": "kR2VtqzzSaEL",
        "outputId": "4ec59219-23b6-4287-dbec-fd72961afe3c"
      },
      "execution_count": null,
      "outputs": [
        {
          "output_type": "stream",
          "name": "stdout",
          "text": [
            "Akurasi Kernel RBF : 0.95\n"
          ]
        }
      ]
    },
    {
      "cell_type": "code",
      "source": [
        "from sklearn import metrics\n",
        "from sklearn.metrics import classification_report\n",
        "\n",
        "cm = metrics.confusion_matrix(Test_Y, y_pred2)\n",
        "plot_confusion_matrix(cm, classes = ['Positif','Negatif'])"
      ],
      "metadata": {
        "colab": {
          "base_uri": "https://localhost:8080/",
          "height": 328
        },
        "id": "op9ZtK90Sk5g",
        "outputId": "f2bb3896-52ee-4956-b296-bb45e28e6c2c"
      },
      "execution_count": null,
      "outputs": [
        {
          "output_type": "stream",
          "name": "stdout",
          "text": [
            "Confusion matrix, without normalization\n"
          ]
        },
        {
          "output_type": "display_data",
          "data": {
            "text/plain": [
              "<Figure size 432x288 with 2 Axes>"
            ],
            "image/png": "[encoded data removed]"
          },
          "metadata": {
            "needs_background": "light"
          }
        }
      ]
    },
    {
      "cell_type": "code",
      "source": [
        "print(\"Classification Report:\\n\",classification_report(Test_Y, y_pred2))"
      ],
      "metadata": {
        "colab": {
          "base_uri": "https://localhost:8080/"
        },
        "id": "AzsDqA9ASsEi",
        "outputId": "678e7495-ee55-4cba-a7ca-c149bcc2290e"
      },
      "execution_count": null,
      "outputs": [
        {
          "output_type": "stream",
          "name": "stdout",
          "text": [
            "Classification Report:\n",
            "               precision    recall  f1-score   support\n",
            "\n",
            "           0       0.96      0.99      0.97       728\n",
            "           1       0.50      0.19      0.27        37\n",
            "\n",
            "    accuracy                           0.95       765\n",
            "   macro avg       0.73      0.59      0.62       765\n",
            "weighted avg       0.94      0.95      0.94       765\n",
            "\n"
          ]
        }
      ]
    },
    {
      "cell_type": "markdown",
      "source": [
        "## **SVM Kernel Sigmoid**"
      ],
      "metadata": {
        "id": "Yr-81yA_Swfc"
      }
    },
    {
      "cell_type": "code",
      "source": [
        "import time\n",
        "from sklearn.svm import SVC\n",
        "start = time.time() \n",
        "\n",
        "svm_classifiertfsg = SVC(kernel='linear', C=2.33, probability=True)\n",
        "svm_classifiertfsg.fit(Train_X_Tfidf,Train_Y)\n",
        "y_pred3 = svm_classifiertfsg.predict(Test_X_Tfidf)\n",
        "\n",
        "end = time.time()\n",
        "process = round(end-start,2)\n",
        "print(\"Support Vector Machine Classifier has fitted, this process took {} seconds\".format(process))"
      ],
      "metadata": {
        "colab": {
          "base_uri": "https://localhost:8080/"
        },
        "id": "4Lh39vj1SzGU",
        "outputId": "378b96b4-843c-42ac-af16-4f3ef003be78"
      },
      "execution_count": null,
      "outputs": [
        {
          "output_type": "stream",
          "name": "stdout",
          "text": [
            "Support Vector Machine Classifier has fitted, this process took 1.28 seconds\n"
          ]
        }
      ]
    },
    {
      "cell_type": "code",
      "source": [
        "#K-fold\n",
        "from sklearn.model_selection import KFold\n",
        "from sklearn.model_selection import cross_val_score\n",
        "\n",
        "sv = SVC()\n",
        "kf = KFold(n_splits=10,shuffle=True, random_state=123)\n",
        "cv_scores = cross_val_score(svm_classifiertfsg,Train_X_Tfidf,Train_Y,cv=10)\n",
        "print(cv_scores)\n",
        "print('Mean: %.3f (%.3f)'%(cv_scores.mean(),cv_scores.std()))"
      ],
      "metadata": {
        "colab": {
          "base_uri": "https://localhost:8080/"
        },
        "id": "ELdmB9JDP-QW",
        "outputId": "1cbbf518-767f-411b-9443-27bb141ca7a3"
      },
      "execution_count": null,
      "outputs": [
        {
          "output_type": "stream",
          "name": "stdout",
          "text": [
            "[0.95217391 0.94782609 0.93478261 0.95652174 0.94782609 0.93886463\n",
            " 0.95196507 0.94323144 0.95196507 0.95633188]\n",
            "Mean: 0.948 (0.007)\n"
          ]
        }
      ]
    },
    {
      "cell_type": "code",
      "source": [
        "svnsmsg = round(accuracy_score(Test_Y, y_pred3),2)\n",
        "print('Akurasi Kernel SIgmoid :',svnsmsg)"
      ],
      "metadata": {
        "colab": {
          "base_uri": "https://localhost:8080/"
        },
        "id": "mRG9ouSDS7P2",
        "outputId": "5beff900-7d66-4a30-8c62-9b44fe6b6a81"
      },
      "execution_count": null,
      "outputs": [
        {
          "output_type": "stream",
          "name": "stdout",
          "text": [
            "Akurasi Kernel SIgmoid : 0.95\n"
          ]
        }
      ]
    },
    {
      "cell_type": "code",
      "source": [
        "from sklearn import metrics\n",
        "from sklearn.metrics import classification_report\n",
        "\n",
        "cm = metrics.confusion_matrix(Test_Y, y_pred3)\n",
        "plot_confusion_matrix(cm, classes = ['Positif','Negatif'])"
      ],
      "metadata": {
        "colab": {
          "base_uri": "https://localhost:8080/",
          "height": 328
        },
        "id": "PmKG8GfvTC9N",
        "outputId": "360ad1ae-3498-466c-b355-62812606e5f4"
      },
      "execution_count": null,
      "outputs": [
        {
          "output_type": "stream",
          "name": "stdout",
          "text": [
            "Confusion matrix, without normalization\n"
          ]
        },
        {
          "output_type": "display_data",
          "data": {
            "text/plain": [
              "<Figure size 432x288 with 2 Axes>"
            ],
            "image/png": "[encoded data removed]"
          },
          "metadata": {
            "needs_background": "light"
          }
        }
      ]
    },
    {
      "cell_type": "code",
      "source": [
        "print(\"Classification Report:\\n\",classification_report(Test_Y, y_pred3))"
      ],
      "metadata": {
        "colab": {
          "base_uri": "https://localhost:8080/"
        },
        "id": "WcVuBoTZTG67",
        "outputId": "d1fc496f-ac0b-4d23-d992-e59fa68c88d6"
      },
      "execution_count": null,
      "outputs": [
        {
          "output_type": "stream",
          "name": "stdout",
          "text": [
            "Classification Report:\n",
            "               precision    recall  f1-score   support\n",
            "\n",
            "           0       0.96      0.99      0.97       728\n",
            "           1       0.50      0.19      0.27        37\n",
            "\n",
            "    accuracy                           0.95       765\n",
            "   macro avg       0.73      0.59      0.62       765\n",
            "weighted avg       0.94      0.95      0.94       765\n",
            "\n"
          ]
        }
      ]
    },
    {
      "cell_type": "markdown",
      "source": [
        "## **SVM Kernel Polynomial**"
      ],
      "metadata": {
        "id": "K0l9vOdGTLqA"
      }
    },
    {
      "cell_type": "code",
      "source": [
        "import time\n",
        "from sklearn.svm import SVC\n",
        "start = time.time() \n",
        "\n",
        "svm_classifiertfpl = SVC(kernel='linear', C=2.33, probability=True)\n",
        "svm_classifiertfpl.fit(Train_X_Tfidf,Train_Y)\n",
        "y_pred4 = svm_classifiertfpl.predict(Test_X_Tfidf)\n",
        "\n",
        "end = time.time()\n",
        "process = round(end-start,2)\n",
        "print(\"Support Vector Machine Classifier has fitted, this process took {} seconds\".format(process))"
      ],
      "metadata": {
        "colab": {
          "base_uri": "https://localhost:8080/"
        },
        "id": "f4gd75adTPPZ",
        "outputId": "545b6662-5e1b-46cb-847b-876b3ccd7c07"
      },
      "execution_count": null,
      "outputs": [
        {
          "output_type": "stream",
          "name": "stdout",
          "text": [
            "Support Vector Machine Classifier has fitted, this process took 1.31 seconds\n"
          ]
        }
      ]
    },
    {
      "cell_type": "code",
      "source": [
        "#K-fold\n",
        "from sklearn.model_selection import KFold\n",
        "from sklearn.model_selection import cross_val_score\n",
        "\n",
        "sv = SVC()\n",
        "kf = KFold(n_splits=10,shuffle=True, random_state=123)\n",
        "cv_scores = cross_val_score(svm_classifiertfpl,Train_X_Tfidf,Train_Y,cv=10)\n",
        "print(cv_scores)\n",
        "print('Mean: %.3f (%.3f)'%(cv_scores.mean(),cv_scores.std()))"
      ],
      "metadata": {
        "colab": {
          "base_uri": "https://localhost:8080/"
        },
        "id": "ubF4mgn9QV6l",
        "outputId": "49dbb7be-78f8-4a8b-872c-f36910a9cd81"
      },
      "execution_count": null,
      "outputs": [
        {
          "output_type": "stream",
          "name": "stdout",
          "text": [
            "[0.95217391 0.94782609 0.93478261 0.95652174 0.94782609 0.93886463\n",
            " 0.95196507 0.94323144 0.95196507 0.95633188]\n",
            "Mean: 0.948 (0.007)\n"
          ]
        }
      ]
    },
    {
      "cell_type": "code",
      "source": [
        "svnsmpl = round(accuracy_score(Test_Y, y_pred4),2)\n",
        "print('Akurasi Kernel Polynomial :',svnsmpl)"
      ],
      "metadata": {
        "colab": {
          "base_uri": "https://localhost:8080/"
        },
        "id": "b4yns3CiTYrW",
        "outputId": "045ce6da-682f-4138-9060-3f3fd0679e46"
      },
      "execution_count": null,
      "outputs": [
        {
          "output_type": "stream",
          "name": "stdout",
          "text": [
            "Akurasi Kernel Polynomial : 0.95\n"
          ]
        }
      ]
    },
    {
      "cell_type": "code",
      "source": [
        "from sklearn import metrics\n",
        "from sklearn.metrics import classification_report\n",
        "\n",
        "cm = metrics.confusion_matrix(Test_Y, y_pred4)\n",
        "plot_confusion_matrix(cm, classes = ['Positif','Negatif'])"
      ],
      "metadata": {
        "colab": {
          "base_uri": "https://localhost:8080/",
          "height": 328
        },
        "id": "4AUACBkbTdJU",
        "outputId": "ea8dfea6-fdc1-4e52-bff1-8440408edf25"
      },
      "execution_count": null,
      "outputs": [
        {
          "output_type": "stream",
          "name": "stdout",
          "text": [
            "Confusion matrix, without normalization\n"
          ]
        },
        {
          "output_type": "display_data",
          "data": {
            "text/plain": [
              "<Figure size 432x288 with 2 Axes>"
            ],
            "image/png": "[encoded data removed]"
          },
          "metadata": {
            "needs_background": "light"
          }
        }
      ]
    },
    {
      "cell_type": "code",
      "source": [
        "print(\"Classification Report:\\n\",classification_report(Test_Y, y_pred4))"
      ],
      "metadata": {
        "colab": {
          "base_uri": "https://localhost:8080/"
        },
        "id": "Z6i-uodATg_J",
        "outputId": "87bce133-38a1-4382-b703-a37588c58949"
      },
      "execution_count": null,
      "outputs": [
        {
          "output_type": "stream",
          "name": "stdout",
          "text": [
            "Classification Report:\n",
            "               precision    recall  f1-score   support\n",
            "\n",
            "           0       0.96      0.99      0.97       728\n",
            "           1       0.50      0.19      0.27        37\n",
            "\n",
            "    accuracy                           0.95       765\n",
            "   macro avg       0.73      0.59      0.62       765\n",
            "weighted avg       0.94      0.95      0.94       765\n",
            "\n"
          ]
        }
      ]
    },
    {
      "cell_type": "code",
      "source": [
        "kernel = ['Linear', 'RBF','Sigmoid','Polynomial']\n",
        "model = [svnsm,svnsmrb,svnsmsg,svnsmpl]\n",
        "ncolors = ['blue', 'teal', 'red', 'purple']\n",
        "\n",
        "plt.bar(kernel, model, color=ncolors)\n",
        "plt.title('Perbandingan Akurasi Tiap Kernel SVM-TFIDF Tanpa SMOTE Pembagian Data 75:25')\n",
        "plt.xlabel('Kernel')\n",
        "plt.ylabel('Akurasi')\n",
        "plt.show()"
      ],
      "metadata": {
        "colab": {
          "base_uri": "https://localhost:8080/",
          "height": 295
        },
        "id": "R2QfphpyfOy9",
        "outputId": "797c5c82-74f3-45d7-d266-8a3ef908a49a"
      },
      "execution_count": null,
      "outputs": [
        {
          "output_type": "display_data",
          "data": {
            "text/plain": [
              "<Figure size 432x288 with 1 Axes>"
            ],
            "image/png": "[encoded data removed]"
          },
          "metadata": {
            "needs_background": "light"
          }
        }
      ]
    },
    {
      "cell_type": "markdown",
      "source": [
        "## **SMOTE**"
      ],
      "metadata": {
        "id": "YX0Oj573TvLN"
      }
    },
    {
      "cell_type": "code",
      "source": [
        "X = Tfidf_vect.fit_transform(data['Comment_Tokenizing'])"
      ],
      "metadata": {
        "id": "lpQLCzZATwss"
      },
      "execution_count": null,
      "outputs": []
    },
    {
      "cell_type": "code",
      "source": [
        "y = data['Label']"
      ],
      "metadata": {
        "id": "Hl5Au_DjVit4"
      },
      "execution_count": null,
      "outputs": []
    },
    {
      "cell_type": "code",
      "source": [
        "from imblearn.over_sampling import SMOTE\n",
        "from collections import Counter\n",
        "\n",
        "print(f'Dataset sebelum SMOTE : {Counter(y)}')\n",
        "\n",
        "smote = SMOTE(random_state=42)\n",
        "X_res, y_res = smote.fit_resample(X, y)\n",
        "\n",
        "print(f'Dataset sesudah SMOTE : {Counter(y_res)}')"
      ],
      "metadata": {
        "colab": {
          "base_uri": "https://localhost:8080/"
        },
        "id": "wglcN3BcVucO",
        "outputId": "33956535-c8d7-4c55-8a5f-e3b59658a117"
      },
      "execution_count": null,
      "outputs": [
        {
          "output_type": "stream",
          "name": "stdout",
          "text": [
            "Dataset sebelum SMOTE : Counter({0: 2912, 1: 148})\n",
            "Dataset sesudah SMOTE : Counter({0: 2912, 1: 2912})\n"
          ]
        }
      ]
    },
    {
      "cell_type": "code",
      "source": [
        "X_train, X_test, y_train, y_test = train_test_split(X_res, y_res, test_size=0.25, random_state=42)"
      ],
      "metadata": {
        "id": "ACb5tjDYWA3D"
      },
      "execution_count": null,
      "outputs": []
    },
    {
      "cell_type": "code",
      "source": [
        "print(\"Perbandingan Jumlah Data Uji dan Latih Pembagian Data 75:25\")\n",
        "print(\"Data Latih : \",y_train.size)\n",
        "print(\"Data Uji   : \",y_test.size)"
      ],
      "metadata": {
        "colab": {
          "base_uri": "https://localhost:8080/"
        },
        "id": "vYyXcwYZLAjw",
        "outputId": "c48d75a3-bb18-489b-e915-cb4713a019b8"
      },
      "execution_count": null,
      "outputs": [
        {
          "output_type": "stream",
          "name": "stdout",
          "text": [
            "Perbandingan Jumlah Data Uji dan Latih Pembagian Data 75:25\n",
            "Data Latih :  4368\n",
            "Data Uji   :  1456\n"
          ]
        }
      ]
    },
    {
      "cell_type": "code",
      "source": [
        "print(X_train.shape)\n",
        "print(y_train.shape)\n",
        "print(X_test.shape)\n",
        "print(y_test.shape)"
      ],
      "metadata": {
        "colab": {
          "base_uri": "https://localhost:8080/"
        },
        "id": "_YOZF7nUWIIz",
        "outputId": "2769290f-3d34-422a-c36e-71ec7c442074"
      },
      "execution_count": null,
      "outputs": [
        {
          "output_type": "stream",
          "name": "stdout",
          "text": [
            "(4368, 5000)\n",
            "(4368,)\n",
            "(1456, 5000)\n",
            "(1456,)\n"
          ]
        }
      ]
    },
    {
      "cell_type": "markdown",
      "source": [
        "## **SVM Kernel Linear dengan SMOTE**"
      ],
      "metadata": {
        "id": "vODZttXJWX9F"
      }
    },
    {
      "cell_type": "code",
      "source": [
        "start = time.time() \n",
        "\n",
        "svm_classifierSM = SVC(kernel='linear', C=2.33, probability=True)\n",
        "svm_classifierSM.fit(X_train,y_train)\n",
        "y_predsm = svm_classifierSM.predict(X_test)\n",
        "\n",
        "end = time.time()\n",
        "process = round(end-start,2)\n",
        "print(\"Support Vector Machine Classifier has fitted, this process took {} seconds\".format(process))"
      ],
      "metadata": {
        "colab": {
          "base_uri": "https://localhost:8080/"
        },
        "id": "L5ehBnhWWWaM",
        "outputId": "83792ca7-bda2-4716-941e-4e1434994972"
      },
      "execution_count": null,
      "outputs": [
        {
          "output_type": "stream",
          "name": "stdout",
          "text": [
            "Support Vector Machine Classifier has fitted, this process took 6.08 seconds\n"
          ]
        }
      ]
    },
    {
      "cell_type": "code",
      "source": [
        "#K-fold\n",
        "from sklearn.model_selection import KFold\n",
        "from sklearn.model_selection import cross_val_score\n",
        "\n",
        "sv = SVC()\n",
        "kf = KFold(n_splits=10,shuffle=True, random_state=123)\n",
        "cv_scores = cross_val_score(svm_classifierSM,X_train,y_train,cv=10)\n",
        "print(cv_scores)\n",
        "print('Mean: %.3f (%.3f)'%(cv_scores.mean(),cv_scores.std()))"
      ],
      "metadata": {
        "colab": {
          "base_uri": "https://localhost:8080/"
        },
        "id": "wP2lAmQvQsrg",
        "outputId": "2edaf361-c9ca-443d-be4f-8e7e288c42aa"
      },
      "execution_count": null,
      "outputs": [
        {
          "output_type": "stream",
          "name": "stdout",
          "text": [
            "[0.9382151  0.95881007 0.94965675 0.93592677 0.95423341 0.9382151\n",
            " 0.94508009 0.94508009 0.93348624 0.94724771]\n",
            "Mean: 0.945 (0.008)\n"
          ]
        }
      ]
    },
    {
      "cell_type": "code",
      "source": [
        "from sklearn.metrics import accuracy_score, recall_score\n",
        "accusm = round(accuracy_score(y_test, y_predsm),2)\n",
        "print('Akurasi Kernel Linear :',accusm)"
      ],
      "metadata": {
        "colab": {
          "base_uri": "https://localhost:8080/"
        },
        "id": "T6H7t1GQWpAz",
        "outputId": "b27c2860-252f-43ad-a920-2fb275b2f904"
      },
      "execution_count": null,
      "outputs": [
        {
          "output_type": "stream",
          "name": "stdout",
          "text": [
            "Akurasi Kernel Linear : 0.95\n"
          ]
        }
      ]
    },
    {
      "cell_type": "code",
      "source": [
        "from sklearn import metrics\n",
        "from sklearn.metrics import classification_report\n",
        "\n",
        "cm = metrics.confusion_matrix(y_test, y_predsm)\n",
        "plot_confusion_matrix(cm, classes = ['Positif','Negatif'])"
      ],
      "metadata": {
        "colab": {
          "base_uri": "https://localhost:8080/",
          "height": 328
        },
        "id": "HyLgB795XQEd",
        "outputId": "97836017-de04-480b-b279-0510974a963d"
      },
      "execution_count": null,
      "outputs": [
        {
          "output_type": "stream",
          "name": "stdout",
          "text": [
            "Confusion matrix, without normalization\n"
          ]
        },
        {
          "output_type": "display_data",
          "data": {
            "text/plain": [
              "<Figure size 432x288 with 2 Axes>"
            ],
            "image/png": "[encoded data removed]"
          },
          "metadata": {
            "needs_background": "light"
          }
        }
      ]
    },
    {
      "cell_type": "code",
      "source": [
        "print(\"Classification Report:\\n\",classification_report(y_test, y_predsm))"
      ],
      "metadata": {
        "colab": {
          "base_uri": "https://localhost:8080/"
        },
        "id": "KhbUnO4rXYhu",
        "outputId": "c136847e-9a16-430e-85b1-a37a30ba0ec2"
      },
      "execution_count": null,
      "outputs": [
        {
          "output_type": "stream",
          "name": "stdout",
          "text": [
            "Classification Report:\n",
            "               precision    recall  f1-score   support\n",
            "\n",
            "           0       1.00      0.90      0.95       762\n",
            "           1       0.90      1.00      0.95       694\n",
            "\n",
            "    accuracy                           0.95      1456\n",
            "   macro avg       0.95      0.95      0.95      1456\n",
            "weighted avg       0.95      0.95      0.95      1456\n",
            "\n"
          ]
        }
      ]
    },
    {
      "cell_type": "markdown",
      "source": [
        "## **SVM Kernel RBF SMOTE**"
      ],
      "metadata": {
        "id": "7CD8aaiBXqxe"
      }
    },
    {
      "cell_type": "code",
      "source": [
        "start = time.time() \n",
        "\n",
        "svm_classifierSMRB = SVC(kernel='rbf', C=2.33, gamma=0.45, probability=True)\n",
        "svm_classifierSMRB.fit(X_train,y_train)\n",
        "y_predrb = svm_classifierSMRB.predict(X_test)\n",
        "\n",
        "end = time.time()\n",
        "process = round(end-start,2)\n",
        "print(\"Support Vector Machine Classifier has fitted, this process took {} seconds\".format(process))"
      ],
      "metadata": {
        "colab": {
          "base_uri": "https://localhost:8080/"
        },
        "id": "vJsp9D3zXvnR",
        "outputId": "7dfa2dd4-807d-49c4-9d43-f2238247f805"
      },
      "execution_count": null,
      "outputs": [
        {
          "output_type": "stream",
          "name": "stdout",
          "text": [
            "Support Vector Machine Classifier has fitted, this process took 4.33 seconds\n"
          ]
        }
      ]
    },
    {
      "cell_type": "code",
      "source": [
        "#K-fold\n",
        "from sklearn.model_selection import KFold\n",
        "from sklearn.model_selection import cross_val_score\n",
        "\n",
        "sv = SVC()\n",
        "kf = KFold(n_splits=10,shuffle=True, random_state=123)\n",
        "cv_scores = cross_val_score(svm_classifierSMRB,X_train,y_train,cv=10)\n",
        "print(cv_scores)\n",
        "print('Mean: %.3f (%.3f)'%(cv_scores.mean(),cv_scores.std()))"
      ],
      "metadata": {
        "colab": {
          "base_uri": "https://localhost:8080/"
        },
        "id": "D9DvnaENQ-i4",
        "outputId": "e5ca1204-067c-4673-e224-7f38a7b7a5be"
      },
      "execution_count": null,
      "outputs": [
        {
          "output_type": "stream",
          "name": "stdout",
          "text": [
            "[0.98855835 0.99771167 0.99313501 0.99084668 0.99542334 1.\n",
            " 0.98855835 0.99542334 0.99311927 0.99311927]\n",
            "Mean: 0.994 (0.004)\n"
          ]
        }
      ]
    },
    {
      "cell_type": "code",
      "source": [
        "accusmrb = round(accuracy_score(y_test, y_predrb),2)\n",
        "print('Akurasi Kernel RBF :',accusmrb)"
      ],
      "metadata": {
        "colab": {
          "base_uri": "https://localhost:8080/"
        },
        "id": "lo3LrRigX3L3",
        "outputId": "54389665-d6a9-4194-b79a-ef9fb0fa3e95"
      },
      "execution_count": null,
      "outputs": [
        {
          "output_type": "stream",
          "name": "stdout",
          "text": [
            "Akurasi Kernel RBF : 0.99\n"
          ]
        }
      ]
    },
    {
      "cell_type": "code",
      "source": [
        "from sklearn import metrics\n",
        "from sklearn.metrics import classification_report\n",
        "\n",
        "cm = metrics.confusion_matrix(y_test, y_predrb)\n",
        "plot_confusion_matrix(cm, classes = ['Positif','Negatif'])"
      ],
      "metadata": {
        "colab": {
          "base_uri": "https://localhost:8080/",
          "height": 328
        },
        "id": "MMk8tcOCYC_R",
        "outputId": "ae167aac-726f-4eb8-990c-d5c141ce37b0"
      },
      "execution_count": null,
      "outputs": [
        {
          "output_type": "stream",
          "name": "stdout",
          "text": [
            "Confusion matrix, without normalization\n"
          ]
        },
        {
          "output_type": "display_data",
          "data": {
            "text/plain": [
              "<Figure size 432x288 with 2 Axes>"
            ],
            "image/png": "[encoded data removed]"
          },
          "metadata": {
            "needs_background": "light"
          }
        }
      ]
    },
    {
      "cell_type": "code",
      "source": [
        "print(\"Classification Report:\\n\",classification_report(y_test, y_predrb))"
      ],
      "metadata": {
        "colab": {
          "base_uri": "https://localhost:8080/"
        },
        "id": "CzqElz44YHr0",
        "outputId": "e2d01efc-53ea-45b5-d769-724d4b9724d6"
      },
      "execution_count": null,
      "outputs": [
        {
          "output_type": "stream",
          "name": "stdout",
          "text": [
            "Classification Report:\n",
            "               precision    recall  f1-score   support\n",
            "\n",
            "           0       1.00      0.99      0.99       762\n",
            "           1       0.99      1.00      0.99       694\n",
            "\n",
            "    accuracy                           0.99      1456\n",
            "   macro avg       0.99      0.99      0.99      1456\n",
            "weighted avg       0.99      0.99      0.99      1456\n",
            "\n"
          ]
        }
      ]
    },
    {
      "cell_type": "markdown",
      "source": [
        "## **Kernel Sigmoid SMOTE**"
      ],
      "metadata": {
        "id": "JsaWyJSaat4l"
      }
    },
    {
      "cell_type": "code",
      "source": [
        "start = time.time() \n",
        "\n",
        "svm_classifierSMSG = SVC(kernel='sigmoid', C=2.33, probability=True)\n",
        "svm_classifierSMSG.fit(X_train,y_train)\n",
        "y_predsg = svm_classifierSMSG.predict(X_test)\n",
        "\n",
        "end = time.time()\n",
        "process = round(end-start,2)\n",
        "print(\"Support Vector Machine Classifier has fitted, this process took {} seconds\".format(process))"
      ],
      "metadata": {
        "colab": {
          "base_uri": "https://localhost:8080/"
        },
        "id": "wciqwVFGawqv",
        "outputId": "4415119e-7b9a-43ac-8b4c-1035dd47b706"
      },
      "execution_count": null,
      "outputs": [
        {
          "output_type": "stream",
          "name": "stdout",
          "text": [
            "Support Vector Machine Classifier has fitted, this process took 5.29 seconds\n"
          ]
        }
      ]
    },
    {
      "cell_type": "code",
      "source": [
        "#K-fold\n",
        "from sklearn.model_selection import KFold\n",
        "from sklearn.model_selection import cross_val_score\n",
        "\n",
        "sv = SVC()\n",
        "kf = KFold(n_splits=10,shuffle=True, random_state=123)\n",
        "cv_scores = cross_val_score(svm_classifierSMSG,X_train,y_train,cv=10)\n",
        "print(cv_scores)\n",
        "print('Mean: %.3f (%.3f)'%(cv_scores.mean(),cv_scores.std()))"
      ],
      "metadata": {
        "colab": {
          "base_uri": "https://localhost:8080/"
        },
        "id": "Rdk7L6EJRH7u",
        "outputId": "b985d3ad-7d67-41d0-de39-55fb6c764482"
      },
      "execution_count": null,
      "outputs": [
        {
          "output_type": "stream",
          "name": "stdout",
          "text": [
            "[0.89702517 0.92906178 0.90389016 0.90389016 0.89702517 0.89016018\n",
            " 0.90160183 0.91304348 0.91513761 0.91513761]\n",
            "Mean: 0.907 (0.011)\n"
          ]
        }
      ]
    },
    {
      "cell_type": "code",
      "source": [
        "accusmsg = round(accuracy_score(y_test, y_predsg),2)\n",
        "print('Akurasi Kernel Sigmoid :',accusmsg)"
      ],
      "metadata": {
        "colab": {
          "base_uri": "https://localhost:8080/"
        },
        "id": "hRVBaqpPbevS",
        "outputId": "d99104d0-ec40-4e63-d317-c6a575b67ccd"
      },
      "execution_count": null,
      "outputs": [
        {
          "output_type": "stream",
          "name": "stdout",
          "text": [
            "Akurasi Kernel Sigmoid : 0.9\n"
          ]
        }
      ]
    },
    {
      "cell_type": "code",
      "source": [
        "from sklearn import metrics\n",
        "from sklearn.metrics import classification_report\n",
        "\n",
        "cm = metrics.confusion_matrix(y_test, y_predsg)\n",
        "plot_confusion_matrix(cm, classes = ['Positif','Negatif'])"
      ],
      "metadata": {
        "colab": {
          "base_uri": "https://localhost:8080/",
          "height": 328
        },
        "id": "2hjssWCMbnb2",
        "outputId": "f7703d28-ae5c-4c1f-b6e2-b68123f7eedc"
      },
      "execution_count": null,
      "outputs": [
        {
          "output_type": "stream",
          "name": "stdout",
          "text": [
            "Confusion matrix, without normalization\n"
          ]
        },
        {
          "output_type": "display_data",
          "data": {
            "text/plain": [
              "<Figure size 432x288 with 2 Axes>"
            ],
            "image/png": "[encoded data removed]"
          },
          "metadata": {
            "needs_background": "light"
          }
        }
      ]
    },
    {
      "cell_type": "code",
      "source": [
        "print(\"Classification Report:\\n\",classification_report(y_test, y_predsg))"
      ],
      "metadata": {
        "colab": {
          "base_uri": "https://localhost:8080/"
        },
        "id": "M532stO-buec",
        "outputId": "a74b0bd5-c15e-4ab8-e067-ca1b4e64ec7b"
      },
      "execution_count": null,
      "outputs": [
        {
          "output_type": "stream",
          "name": "stdout",
          "text": [
            "Classification Report:\n",
            "               precision    recall  f1-score   support\n",
            "\n",
            "           0       0.95      0.86      0.90       762\n",
            "           1       0.86      0.95      0.90       694\n",
            "\n",
            "    accuracy                           0.90      1456\n",
            "   macro avg       0.90      0.91      0.90      1456\n",
            "weighted avg       0.91      0.90      0.90      1456\n",
            "\n"
          ]
        }
      ]
    },
    {
      "cell_type": "markdown",
      "source": [
        "## **Kernel Polynomial SMOTE**"
      ],
      "metadata": {
        "id": "HYMey6v3bzI_"
      }
    },
    {
      "cell_type": "code",
      "source": [
        "start = time.time() \n",
        "\n",
        "svm_classifierSMPL = SVC(kernel='poly', C=2.33, probability=True)\n",
        "svm_classifierSMPL.fit(X_train,y_train)\n",
        "y_predpl = svm_classifierSMPL.predict(X_test)\n",
        "\n",
        "end = time.time()\n",
        "process = round(end-start,2)\n",
        "print(\"Support Vector Machine Classifier has fitted, this process took {} seconds\".format(process))"
      ],
      "metadata": {
        "colab": {
          "base_uri": "https://localhost:8080/"
        },
        "id": "XzFzXNqib3jq",
        "outputId": "a9a7f1c6-c3f1-40ca-f7c5-03e73b59e4f0"
      },
      "execution_count": null,
      "outputs": [
        {
          "output_type": "stream",
          "name": "stdout",
          "text": [
            "Support Vector Machine Classifier has fitted, this process took 10.63 seconds\n"
          ]
        }
      ]
    },
    {
      "cell_type": "code",
      "source": [
        "#K-fold\n",
        "from sklearn.model_selection import KFold\n",
        "from sklearn.model_selection import cross_val_score\n",
        "\n",
        "sv = SVC()\n",
        "kf = KFold(n_splits=10,shuffle=True, random_state=123)\n",
        "cv_scores = cross_val_score(svm_classifierSMPL,X_train,y_train,cv=10)\n",
        "print(cv_scores)\n",
        "print('Mean: %.3f (%.3f)'%(cv_scores.mean(),cv_scores.std()))"
      ],
      "metadata": {
        "colab": {
          "base_uri": "https://localhost:8080/"
        },
        "id": "mVNV9D99RNba",
        "outputId": "47614c2e-3485-414c-b584-b52ea3e514aa"
      },
      "execution_count": null,
      "outputs": [
        {
          "output_type": "stream",
          "name": "stdout",
          "text": [
            "[0.80320366 0.84439359 0.82379863 0.83524027 0.8375286  0.8375286\n",
            " 0.81922197 0.81235698 0.81422018 0.82798165]\n",
            "Mean: 0.826 (0.013)\n"
          ]
        }
      ]
    },
    {
      "cell_type": "code",
      "source": [
        "accusmpl = round(accuracy_score(y_test, y_predpl),2)\n",
        "print('Akurasi Kernel Polynomial :',accusmpl)"
      ],
      "metadata": {
        "colab": {
          "base_uri": "https://localhost:8080/"
        },
        "id": "mEK6yjV4cKfz",
        "outputId": "8ae29b9b-0f2a-4e4a-a826-af62ee191e5a"
      },
      "execution_count": null,
      "outputs": [
        {
          "output_type": "stream",
          "name": "stdout",
          "text": [
            "Akurasi Kernel Polynomial : 0.83\n"
          ]
        }
      ]
    },
    {
      "cell_type": "code",
      "source": [
        "from sklearn import metrics\n",
        "from sklearn.metrics import classification_report\n",
        "\n",
        "cm = metrics.confusion_matrix(y_test, y_predpl)\n",
        "plot_confusion_matrix(cm, classes = ['Positif','Negatif'])"
      ],
      "metadata": {
        "colab": {
          "base_uri": "https://localhost:8080/",
          "height": 328
        },
        "id": "vyfjW73OcSEh",
        "outputId": "29661162-efa6-48e9-8dda-e62f86a00bec"
      },
      "execution_count": null,
      "outputs": [
        {
          "output_type": "stream",
          "name": "stdout",
          "text": [
            "Confusion matrix, without normalization\n"
          ]
        },
        {
          "output_type": "display_data",
          "data": {
            "text/plain": [
              "<Figure size 432x288 with 2 Axes>"
            ],
            "image/png": "[encoded data removed]"
          },
          "metadata": {
            "needs_background": "light"
          }
        }
      ]
    },
    {
      "cell_type": "code",
      "source": [
        "print(\"Classification Report:\\n\",classification_report(y_test, y_predpl))"
      ],
      "metadata": {
        "colab": {
          "base_uri": "https://localhost:8080/"
        },
        "id": "lxEH8SW1caCW",
        "outputId": "9304335e-274b-4591-90eb-c6a284a3fe61"
      },
      "execution_count": null,
      "outputs": [
        {
          "output_type": "stream",
          "name": "stdout",
          "text": [
            "Classification Report:\n",
            "               precision    recall  f1-score   support\n",
            "\n",
            "           0       1.00      0.67      0.80       762\n",
            "           1       0.73      1.00      0.85       694\n",
            "\n",
            "    accuracy                           0.83      1456\n",
            "   macro avg       0.87      0.84      0.82      1456\n",
            "weighted avg       0.87      0.83      0.82      1456\n",
            "\n"
          ]
        }
      ]
    },
    {
      "cell_type": "code",
      "source": [
        "kernel = ['Linear', 'RBF','Sigmoid','Polynomial']\n",
        "model = [accusm,accusmrb,accusmsg,accusmpl]\n",
        "ncolors = ['blue', 'teal', 'red', 'purple']\n",
        "\n",
        "plt.bar(kernel, model, color=ncolors)\n",
        "plt.title('Perbandingan Akurasi Tiap Kernel SVM-TFIDF Dengan SMOTE Pembagian Data 75:25')\n",
        "plt.xlabel('Kernel')\n",
        "plt.ylabel('Akurasi')\n",
        "plt.show()"
      ],
      "metadata": {
        "colab": {
          "base_uri": "https://localhost:8080/",
          "height": 295
        },
        "id": "r9RGEVnFeDyy",
        "outputId": "2d7f5a31-5aff-41e8-e395-7124858d958c"
      },
      "execution_count": null,
      "outputs": [
        {
          "output_type": "display_data",
          "data": {
            "text/plain": [
              "<Figure size 432x288 with 1 Axes>"
            ],
            "image/png": "[encoded data removed]"
          },
          "metadata": {
            "needs_background": "light"
          }
        }
      ]
    }
  ],
  "metadata": {
    "colab": {
      "name": "Modelling Data Skripsi TFIDF 75:25.ipynb",
      "provenance": [],
      "collapsed_sections": []
    },
    "kernelspec": {
      "display_name": "Python 3",
      "name": "python3"
    },
    "language_info": {
      "name": "python"
    }
  },
  "nbformat": 4,
  "nbformat_minor": 0
}